{
 "cells": [
  {
   "cell_type": "code",
   "execution_count": 2,
   "metadata": {},
   "outputs": [],
   "source": [
    "import pandas as pd\n",
    "import numpy as np\n",
    "import utils\n",
    "import geopy"
   ]
  },
  {
   "cell_type": "code",
   "execution_count": 3,
   "metadata": {},
   "outputs": [],
   "source": [
    "refined_loc = pd.read_excel(\"../refined_location.xlsx\") \n",
    "test = refined_loc[refined_loc[\"found\"] == 1]"
   ]
  },
  {
   "cell_type": "code",
   "execution_count": 9,
   "metadata": {},
   "outputs": [
    {
     "name": "stdout",
     "output_type": "stream",
     "text": [
      "1° 39' 30.52\" N, 30° 16' 19.94\" E\n"
     ]
    }
   ],
   "source": [
    "row = 3\n",
    "utils.pretty_print_point(geopy.Point(longitude=test.iloc[row, 2], latitude=test.iloc[row, 1]))"
   ]
  },
  {
   "cell_type": "code",
   "execution_count": null,
   "metadata": {},
   "outputs": [],
   "source": [
    "data2 = refined_loc.copy()\n",
    "\n",
    "data2 = data2[data2[\"found\"] == 1]\n",
    "distance = 10\n",
    "\n",
    "data2[\"b_coord\"] = data2.apply(lambda x: utils.returnLeftBottomBoxCoord(x[\"longitude\"], x[\"latitude\"], dist=distance), axis = 1)\n",
    "data2[\"t_coord\"] = data2.apply(lambda x: utils.returnRightTopBoxCoord(x[\"longitude\"], x[\"latitude\"], dist=distance), axis = 1)\n",
    "\n",
    "# split bottom coordinate in two\n",
    "data2[\"b_long\"] = data2[\"b_coord\"].str[0]\n",
    "data2[\"b_lat\"] = data2[\"b_coord\"].str[1]\n",
    "\n",
    "# split top coordinate in two\n",
    "data2[\"t_long\"] = data2[\"t_coord\"].str[0]\n",
    "data2[\"t_lat\"] = data2[\"t_coord\"].str[1]\n",
    "\n",
    "data3 = data2.drop([\"b_coord\", \"t_coord\", \"found\"], axis=1)\n",
    "\n",
    "data3.to_excel(\"../mines_ready_to_retrieve.xlsx\", index=False)"
   ]
  }
 ],
 "metadata": {
  "kernelspec": {
   "display_name": "satelite",
   "language": "python",
   "name": "python3"
  },
  "language_info": {
   "codemirror_mode": {
    "name": "ipython",
    "version": 3
   },
   "file_extension": ".py",
   "mimetype": "text/x-python",
   "name": "python",
   "nbconvert_exporter": "python",
   "pygments_lexer": "ipython3",
   "version": "3.11.4"
  },
  "orig_nbformat": 4
 },
 "nbformat": 4,
 "nbformat_minor": 2
}
